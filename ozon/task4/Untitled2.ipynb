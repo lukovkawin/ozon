{
 "cells": [
  {
   "cell_type": "code",
   "execution_count": 1,
   "metadata": {},
   "outputs": [],
   "source": [
    "import pandas as pd"
   ]
  },
  {
   "cell_type": "code",
   "execution_count": 6,
   "metadata": {},
   "outputs": [
    {
     "data": {
      "text/html": [
       "<div>\n",
       "<style scoped>\n",
       "    .dataframe tbody tr th:only-of-type {\n",
       "        vertical-align: middle;\n",
       "    }\n",
       "\n",
       "    .dataframe tbody tr th {\n",
       "        vertical-align: top;\n",
       "    }\n",
       "\n",
       "    .dataframe thead th {\n",
       "        text-align: right;\n",
       "    }\n",
       "</style>\n",
       "<table border=\"1\" class=\"dataframe\">\n",
       "  <thead>\n",
       "    <tr style=\"text-align: right;\">\n",
       "      <th></th>\n",
       "      <th>date</th>\n",
       "      <th>platforms</th>\n",
       "      <th>shelf</th>\n",
       "      <th>action</th>\n",
       "      <th>count</th>\n",
       "      <th>uniq</th>\n",
       "    </tr>\n",
       "  </thead>\n",
       "  <tbody>\n",
       "    <tr>\n",
       "      <th>0</th>\n",
       "      <td>02.06.2019</td>\n",
       "      <td>mobile_site</td>\n",
       "      <td>shelf.bestOfFavorites</td>\n",
       "      <td>view</td>\n",
       "      <td>310</td>\n",
       "      <td>139</td>\n",
       "    </tr>\n",
       "    <tr>\n",
       "      <th>1</th>\n",
       "      <td>07.06.2019</td>\n",
       "      <td>mobile_site</td>\n",
       "      <td>shelf.recomsForYou</td>\n",
       "      <td>view</td>\n",
       "      <td>416</td>\n",
       "      <td>148</td>\n",
       "    </tr>\n",
       "    <tr>\n",
       "      <th>2</th>\n",
       "      <td>02.06.2019</td>\n",
       "      <td>site</td>\n",
       "      <td>shelf.bestsellers</td>\n",
       "      <td>view</td>\n",
       "      <td>15337</td>\n",
       "      <td>8398</td>\n",
       "    </tr>\n",
       "    <tr>\n",
       "      <th>3</th>\n",
       "      <td>09.06.2019</td>\n",
       "      <td>site</td>\n",
       "      <td>shelf.bestOfFavorites</td>\n",
       "      <td>view</td>\n",
       "      <td>4701</td>\n",
       "      <td>2139</td>\n",
       "    </tr>\n",
       "    <tr>\n",
       "      <th>4</th>\n",
       "      <td>04.06.2019</td>\n",
       "      <td>mobile_site</td>\n",
       "      <td>shelf.viewedBought</td>\n",
       "      <td>view</td>\n",
       "      <td>571</td>\n",
       "      <td>223</td>\n",
       "    </tr>\n",
       "  </tbody>\n",
       "</table>\n",
       "</div>"
      ],
      "text/plain": [
       "         date    platforms                  shelf action  count  uniq\n",
       "0  02.06.2019  mobile_site  shelf.bestOfFavorites   view    310   139\n",
       "1  07.06.2019  mobile_site     shelf.recomsForYou   view    416   148\n",
       "2  02.06.2019         site      shelf.bestsellers   view  15337  8398\n",
       "3  09.06.2019         site  shelf.bestOfFavorites   view   4701  2139\n",
       "4  04.06.2019  mobile_site     shelf.viewedBought   view    571   223"
      ]
     },
     "execution_count": 6,
     "metadata": {},
     "output_type": "execute_result"
    }
   ],
   "source": [
    "df = pd.read_csv('views.csv', sep = ';')\n",
    "df.head(5)"
   ]
  },
  {
   "cell_type": "code",
   "execution_count": 73,
   "metadata": {},
   "outputs": [
    {
     "name": "stdout",
     "output_type": "stream",
     "text": [
      "Количество просмотров с мобильных устройств =  26953\n",
      "Количество просмотров с cайта =  739915\n"
     ]
    }
   ],
   "source": [
    "df2 = pd.DataFrame(columns=['platforms', 'count'])\n",
    "df2['count'] = df['count']\n",
    "df2['platforms'] = df['platforms'].apply(lambda x: 1 if x.find('mob') == 0 else 2)\n",
    "df2.head(5)\n",
    "sum1 = df3.loc[df2['platforms'] == 1, 'count'].sum()\n",
    "sum2 = df3.loc[df2['platforms'] == 2, 'count'].sum()\n",
    "print('Количество просмотров с мобильных устройств = ',sum1)\n",
    "print('Количество просмотров с cайта = ', sum2)"
   ]
  },
  {
   "cell_type": "code",
   "execution_count": 55,
   "metadata": {},
   "outputs": [
    {
     "name": "stdout",
     "output_type": "stream",
     "text": [
      "6\n"
     ]
    }
   ],
   "source": [
    "df1['shelf'] = df.groupby('shelf')['shelf'].nunique()\n",
    "print('Количество уникальных полок = 'df1['shelf'].count())\n"
   ]
  },
  {
   "cell_type": "code",
   "execution_count": 81,
   "metadata": {},
   "outputs": [
    {
     "name": "stdout",
     "output_type": "stream",
     "text": [
      "<pandas.core.groupby.groupby.DataFrameGroupBy object at 0x0000021498D77DD8>\n"
     ]
    }
   ],
   "source": [
    "df3 = df.loc[df['shelf'] == 'shelf.bestsellers']\n",
    "df3 = df3.groupby('shelf')"
   ]
  },
  {
   "cell_type": "code",
   "execution_count": 82,
   "metadata": {},
   "outputs": [
    {
     "data": {
      "text/html": [
       "<div>\n",
       "<style scoped>\n",
       "    .dataframe tbody tr th:only-of-type {\n",
       "        vertical-align: middle;\n",
       "    }\n",
       "\n",
       "    .dataframe tbody tr th {\n",
       "        vertical-align: top;\n",
       "    }\n",
       "\n",
       "    .dataframe thead th {\n",
       "        text-align: right;\n",
       "    }\n",
       "</style>\n",
       "<table border=\"1\" class=\"dataframe\">\n",
       "  <thead>\n",
       "    <tr style=\"text-align: right;\">\n",
       "      <th></th>\n",
       "      <th>date</th>\n",
       "      <th>platforms</th>\n",
       "      <th>shelf</th>\n",
       "      <th>action</th>\n",
       "      <th>count</th>\n",
       "      <th>uniq</th>\n",
       "    </tr>\n",
       "  </thead>\n",
       "  <tbody>\n",
       "    <tr>\n",
       "      <th>0</th>\n",
       "      <td>02.06.2019</td>\n",
       "      <td>mobile_site</td>\n",
       "      <td>shelf.bestOfFavorites</td>\n",
       "      <td>view</td>\n",
       "      <td>310</td>\n",
       "      <td>139</td>\n",
       "    </tr>\n",
       "    <tr>\n",
       "      <th>1</th>\n",
       "      <td>07.06.2019</td>\n",
       "      <td>mobile_site</td>\n",
       "      <td>shelf.recomsForYou</td>\n",
       "      <td>view</td>\n",
       "      <td>416</td>\n",
       "      <td>148</td>\n",
       "    </tr>\n",
       "    <tr>\n",
       "      <th>2</th>\n",
       "      <td>02.06.2019</td>\n",
       "      <td>site</td>\n",
       "      <td>shelf.bestsellers</td>\n",
       "      <td>view</td>\n",
       "      <td>15337</td>\n",
       "      <td>8398</td>\n",
       "    </tr>\n",
       "    <tr>\n",
       "      <th>3</th>\n",
       "      <td>09.06.2019</td>\n",
       "      <td>site</td>\n",
       "      <td>shelf.bestOfFavorites</td>\n",
       "      <td>view</td>\n",
       "      <td>4701</td>\n",
       "      <td>2139</td>\n",
       "    </tr>\n",
       "    <tr>\n",
       "      <th>4</th>\n",
       "      <td>04.06.2019</td>\n",
       "      <td>mobile_site</td>\n",
       "      <td>shelf.viewedBought</td>\n",
       "      <td>view</td>\n",
       "      <td>571</td>\n",
       "      <td>223</td>\n",
       "    </tr>\n",
       "  </tbody>\n",
       "</table>\n",
       "</div>"
      ],
      "text/plain": [
       "         date    platforms                  shelf action  count  uniq\n",
       "0  02.06.2019  mobile_site  shelf.bestOfFavorites   view    310   139\n",
       "1  07.06.2019  mobile_site     shelf.recomsForYou   view    416   148\n",
       "2  02.06.2019         site      shelf.bestsellers   view  15337  8398\n",
       "3  09.06.2019         site  shelf.bestOfFavorites   view   4701  2139\n",
       "4  04.06.2019  mobile_site     shelf.viewedBought   view    571   223"
      ]
     },
     "execution_count": 82,
     "metadata": {},
     "output_type": "execute_result"
    }
   ],
   "source": [
    "df4 = pd.read_csv('clicks.csv', sep = ';')\n",
    "df.head(5)"
   ]
  }
 ],
 "metadata": {
  "kernelspec": {
   "display_name": "Python 3",
   "language": "python",
   "name": "python3"
  },
  "language_info": {
   "codemirror_mode": {
    "name": "ipython",
    "version": 3
   },
   "file_extension": ".py",
   "mimetype": "text/x-python",
   "name": "python",
   "nbconvert_exporter": "python",
   "pygments_lexer": "ipython3",
   "version": "3.6.5"
  }
 },
 "nbformat": 4,
 "nbformat_minor": 2
}
